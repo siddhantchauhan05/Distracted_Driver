{
 "cells": [
  {
   "cell_type": "code",
   "execution_count": 1,
   "metadata": {},
   "outputs": [
    {
     "name": "stderr",
     "output_type": "stream",
     "text": [
      "Using TensorFlow backend.\n"
     ]
    }
   ],
   "source": [
    "import tkinter # Standard Python interface\n",
    "from tkinter import filedialog # Standard Python interface - File dialog\n",
    "import os # For operating system dependent functionality\n",
    "import glob # Find all the pathnames matching a specified pattern\n",
    "import numpy as np # A powerful N-dimensional array object\n",
    "import pandas as pd # Data frame manipulation\n",
    "import cv2 # OpenCV array structures are converted to and from Numpy arrays - For reading Images\n",
    "import sys # System specific functions\n",
    "from keras.models import model_from_json # Loading saved model"
   ]
  },
  {
   "cell_type": "code",
   "execution_count": 2,
   "metadata": {
    "collapsed": true
   },
   "outputs": [],
   "source": [
    "# load json\n",
    "json_file = open('model2.json', 'r')\n",
    "loaded_model_json = json_file.read()\n",
    "json_file.close()\n",
    "\n",
    "# Create model\n",
    "loaded_model = model_from_json(loaded_model_json)\n",
    "# Add weights to the model\n",
    "loaded_model.load_weights(\"model2.h5\")\n",
    "\n",
    "# Compile model\n",
    "loaded_model.compile(loss='categorical_crossentropy', optimizer='adam', metrics=['accuracy'])"
   ]
  },
  {
   "cell_type": "code",
   "execution_count": 3,
   "metadata": {
    "collapsed": true
   },
   "outputs": [],
   "source": [
    "# Create testing data from the images present in impdir\n",
    "# Function to read the images in gray scale and resize the image\n",
    "def load_test(impdir):\n",
    "    X_test = [] # Resized image\n",
    "    driver_id_test = [] # Driver ID\n",
    "    \n",
    "    print('Read images')\n",
    "    \n",
    "    # Create path to read all the jpg files present in the directory\n",
    "    path = r'' + impdir + '/*.jpg'\n",
    "    \n",
    "    # Glob will help to read all the images from each folder\n",
    "    files = glob.glob(path)\n",
    "    \n",
    "    # If no images are found then return error message\n",
    "    if(files == []):\n",
    "        # Display error message\n",
    "        print('No images Found... Please Select proper directory')\n",
    "        print()\n",
    "        # Stop the program\n",
    "        sys.exit(\"Service terminated\")\n",
    "    \n",
    "    # Iterate to read each image\n",
    "    for fl in files:\n",
    "        \n",
    "        # Take only the base name i.e., img_name.jpg\n",
    "        flbase = os.path.basename(fl)\n",
    "            \n",
    "        # Read images in gray scale\n",
    "        img = cv2.imread(fl, 0)\n",
    "        # Resize the image\n",
    "        img_resized = cv2.resize(img,(224,224))\n",
    "        \n",
    "        # Append Resized image\n",
    "        X_test.append(img_resized)\n",
    "        # Append Driver ID\n",
    "        driver_id_test.append(flbase)\n",
    "        \n",
    "    return np.array(X_test, dtype=np.uint8), driver_id_test;"
   ]
  },
  {
   "cell_type": "code",
   "execution_count": 4,
   "metadata": {
    "collapsed": true
   },
   "outputs": [],
   "source": [
    "# Service definition to classify images into 5 categories as follows:\n",
    "# The 10 classes to predict are:\n",
    "    # c0: safe driving\n",
    "    # c1: texting - right\n",
    "    # c2: talking on the phone - right\n",
    "    # c3: texting - left\n",
    "    # c4: talking on the phone - left\n",
    "# Parameters to pass - Directory for input images and for output results to be stored by the model\n",
    "def distracted_driver_classification():\n",
    "   \n",
    "    # Used to open a dialog for selecting the testing image folder\n",
    "    root = tkinter.Tk()\n",
    "    # Used to hide tkinter window\n",
    "    root.withdraw()\n",
    "    \n",
    "    # For initializing the dialog to current directory\n",
    "    currdir = os.getcwd()\n",
    "    \n",
    "    print(\"Please select input directory\")\n",
    "    \n",
    "    # Store the path selected - input\n",
    "    impdir = filedialog.askdirectory(parent=root, initialdir=currdir, title='Please select input directory')\n",
    "    if len(impdir) > 0:\n",
    "        # Display the input directory if present\n",
    "        print(\"You chose input %s\" % impdir)\n",
    "        print()\n",
    "    else:\n",
    "        # Display error message\n",
    "        print('No images Found... Please Select proper input directory')\n",
    "        print()\n",
    "        # Stop the program\n",
    "        sys.exit(\"Service terminated\")\n",
    "        \n",
    "    print(\"Please select output directory\")\n",
    "    \n",
    "    # Store the path selected - output\n",
    "    outdir = filedialog.askdirectory(parent=root, initialdir=currdir, title='Please select output directory')\n",
    "    if len(outdir) > 0:\n",
    "        # Display the output directory if present\n",
    "        print(\"You chose output %s\" % outdir)\n",
    "        print()\n",
    "    else:\n",
    "        # Display error message\n",
    "        print('Please Select proper output directory')\n",
    "        print()\n",
    "        # Stop the program\n",
    "        sys.exit(\"Service terminated\")\n",
    "    \n",
    "    # Load all the testing image data\n",
    "    X_test, driver_id_test = load_test(impdir)\n",
    "    \n",
    "    # Normalized the data (divide by 255 because colour (Gray-scale) range lies between 0 to 255)\n",
    "    X_test = X_test.astype('float32')\n",
    "    X_test /= 255\n",
    "    \n",
    "    # Convert the 2D Dimension to 3D so that we can pass the image to CNN\n",
    "    X_test = X_test.reshape(X_test.shape[0], 224, 224,1)\n",
    "    \n",
    "    # Prob prediction for each class\n",
    "    pred = loaded_model.predict(X_test)\n",
    "\n",
    "    # Class prediction\n",
    "    pred_class = loaded_model.predict_classes(X_test)\n",
    "    \n",
    "    # Map the class prediction to actual value\n",
    "    result_class = []\n",
    "    for pred in pred_class:\n",
    "        if pred == 0:\n",
    "            result_class.append(\"safe driving\")\n",
    "        elif pred == 1:\n",
    "            result_class.append(\"texting - right\")\n",
    "        elif pred == 2:\n",
    "            result_class.append(\"talking on the phone - right\")\n",
    "        elif pred == 3:\n",
    "            result_class.append(\"texting - left\")\n",
    "        else:\n",
    "            result_class.append(\"talking on the phone - left\")\n",
    "        \n",
    "    # Create a data frame from Driver ID and its classification\n",
    "    result = pd.DataFrame({'driver_id':driver_id_test,'result_class':result_class})\n",
    "    \n",
    "    # Save the results to CSV\n",
    "    result.to_csv(outdir +'/ Distracted Driver results.csv', sep=',')\n",
    "    \n",
    "    # Print message for successful run\n",
    "    print()\n",
    "    print(\"File has been successfully written to %s\" % outdir)\n",
    "    ;"
   ]
  },
  {
   "cell_type": "code",
   "execution_count": 6,
   "metadata": {},
   "outputs": [
    {
     "name": "stdout",
     "output_type": "stream",
     "text": [
      "Please select input directory\n",
      "You chose input C:/Users/SIDDY/Desktop/Distracted Driver/test_final\n",
      "\n",
      "Please select output directory\n",
      "You chose output C:/Users/SIDDY/Desktop/Distracted Driver\n",
      "\n",
      "Read images\n",
      "20/20 [==============================] - 0s\n",
      "\n",
      "File has been successfully written to C:/Users/SIDDY/Desktop/Distracted Driver\n"
     ]
    }
   ],
   "source": [
    "# Service call to classify images into 5 categories as follows:\n",
    "# The 10 classes to predict are:\n",
    "    # c0: safe driving\n",
    "    # c1: texting - right\n",
    "    # c2: talking on the phone - right\n",
    "    # c3: texting - left\n",
    "    # c4: talking on the phone - left\n",
    "distracted_driver_classification()"
   ]
  }
 ],
 "metadata": {
  "kernelspec": {
   "display_name": "Python 3",
   "language": "python",
   "name": "python3"
  },
  "language_info": {
   "codemirror_mode": {
    "name": "ipython",
    "version": 3
   },
   "file_extension": ".py",
   "mimetype": "text/x-python",
   "name": "python",
   "nbconvert_exporter": "python",
   "pygments_lexer": "ipython3",
   "version": "3.5.4"
  }
 },
 "nbformat": 4,
 "nbformat_minor": 2
}
