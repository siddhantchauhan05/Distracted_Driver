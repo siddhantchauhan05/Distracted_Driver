{
 "cells": [
  {
   "cell_type": "code",
   "execution_count": 1,
   "metadata": {},
   "outputs": [
    {
     "name": "stderr",
     "output_type": "stream",
     "text": [
      "Using TensorFlow backend.\n"
     ]
    }
   ],
   "source": [
    "import os # For operating system dependent functionality\n",
    "import cv2 # OpenCV array structures are converted to and from Numpy arrays - For reading Images\n",
    "import glob # Find all the pathnames matching a specified pattern\n",
    "import numpy as np # A powerful N-dimensional array object\n",
    "import pandas as pd # Data frame manipulation\n",
    "from matplotlib import pyplot as plt # Plotting graphs\n",
    "import seaborn as sns # Plotting graphs\n",
    "from keras.utils import np_utils # Modelling\n",
    "from sklearn.metrics import accuracy_score, classification_report # Modelling"
   ]
  },
  {
   "cell_type": "code",
   "execution_count": 2,
   "metadata": {
    "collapsed": true
   },
   "outputs": [],
   "source": [
    "# Get the list of all the driver images\n",
    "path = r'C:/Users/SIDDY/Desktop/Business Analytics for sustainable world/Final Use case/all'\n",
    "df = pd.read_csv(path + '/driver_imgs_list.csv')\n",
    "\n",
    "# The 10 classes to predict are:\n",
    "    # c0: safe driving\n",
    "    # c1: texting - right\n",
    "    # c2: talking on the phone - right\n",
    "    # c3: texting - left\n",
    "    # c4: talking on the phone - left\n",
    "    # c5: operating the radio\n",
    "    # c6: drinking\n",
    "    # c7: reaching behind\n",
    "    # c8: hair and makeup\n",
    "    # c9: talking to passenger"
   ]
  },
  {
   "cell_type": "code",
   "execution_count": 3,
   "metadata": {},
   "outputs": [
    {
     "data": {
      "image/png": "[encoded data removed]",
      "text/plain": [
       "<matplotlib.figure.Figure at 0x22e5940feb8>"
      ]
     },
     "metadata": {},
     "output_type": "display_data"
    }
   ],
   "source": [
    "# Plot figure size\n",
    "plt.figure(figsize = (10,10))\n",
    "# Count the number of images per category\n",
    "sns.countplot(x = 'classname',data = df)\n",
    "# Change the Axis names\n",
    "plt.ylabel('Population')\n",
    "plt.title('Categories Distribution')\n",
    "# Save the Categories_Distribution Image\n",
    "# sns.plt.savefig(path + '/Categories_Distribution.png')\n",
    "# Show plot\n",
    "plt.show()"
   ]
  },
  {
   "cell_type": "code",
   "execution_count": 4,
   "metadata": {},
   "outputs": [
    {
     "name": "stdout",
     "output_type": "stream",
     "text": [
      "   driver_id  Counts\n",
      "0       p021    1237\n",
      "1       p022    1233\n",
      "2       p024    1226\n",
      "3       p026    1196\n",
      "4       p016    1078\n",
      "5       p066    1034\n",
      "6       p049    1011\n",
      "7       p051     920\n",
      "8       p014     876\n",
      "9       p015     875\n",
      "10      p035     848\n",
      "11      p047     835\n",
      "12      p012     823\n",
      "13      p081     823\n",
      "14      p064     820\n",
      "15      p075     814\n",
      "16      p061     809\n",
      "17      p056     794\n",
      "18      p050     790\n",
      "19      p052     740\n",
      "20      p002     725\n",
      "21      p045     724\n",
      "22      p039     651\n",
      "23      p041     605\n",
      "24      p042     591\n",
      "25      p072     346\n"
     ]
    }
   ],
   "source": [
    "# Find the frequency of images per driver\n",
    "drivers_id = pd.DataFrame((df['subject'].value_counts()).reset_index())\n",
    "drivers_id.columns = ['driver_id', 'Counts']\n",
    "print(drivers_id)"
   ]
  },
  {
   "cell_type": "code",
   "execution_count": 5,
   "metadata": {
    "collapsed": true
   },
   "outputs": [],
   "source": [
    "# As the Drivers in the test set are different than the ones in the traning set\n",
    "# Keep unique drivers in training and validation(pre-test) data respectively\n",
    "\n",
    "train_id = list(drivers_id.iloc[0:20,0])\n",
    "\n",
    "train_img_id = df[df.subject.isin(train_id) == True]\n",
    "test_img_id = df[df.subject.isin(train_id) == False]"
   ]
  },
  {
   "cell_type": "code",
   "execution_count": 6,
   "metadata": {
    "collapsed": true
   },
   "outputs": [],
   "source": [
    "# Separate image driver ID and image name for Training\n",
    "train_driver_id = list(train_img_id[['subject','img']].set_index('img').to_dict().values()).pop()\n",
    "train_img_name = list(train_img_id['img'])\n",
    "\n",
    "# Separate image driver ID and image name for Testing\n",
    "test_driver_id = list(test_img_id[['subject','img']].set_index('img').to_dict().values()).pop()\n",
    "test_img_name = list(test_img_id['img'])"
   ]
  },
  {
   "cell_type": "code",
   "execution_count": 7,
   "metadata": {
    "collapsed": true
   },
   "outputs": [],
   "source": [
    "# Delete unwanted variables\n",
    "del df, drivers_id, train_id, train_img_id, test_img_id"
   ]
  },
  {
   "cell_type": "code",
   "execution_count": 8,
   "metadata": {},
   "outputs": [
    {
     "name": "stdout",
     "output_type": "stream",
     "text": [
      "Read images\n",
      "Load folder c0\n",
      "Load folder c1\n",
      "Load folder c2\n",
      "Load folder c3\n",
      "Load folder c4\n"
     ]
    }
   ],
   "source": [
    "# Create training data\n",
    "# Function to read the images in gray scale and resize the image\n",
    "# Map it to the category of the image and driver ID\n",
    "def load_train():\n",
    "    y_train = [] # Target\n",
    "    X_train = [] # Resized image\n",
    "    driver_id_train = [] # Driver ID\n",
    "\n",
    "    print('Read images')\n",
    "    \n",
    "    # Range = 5 because in our path we have five folders\n",
    "    for j in range(5):     \n",
    "        \n",
    "        print('Load folder c{}'.format(j))\n",
    "        # Create path of all the folders one by one\n",
    "        path = r'C:\\Users\\SIDDY\\Desktop\\Business Analytics for sustainable world\\Final Use case\\all\\imgs\\train\\c' + str(j) +'\\*.jpg'\n",
    "        \n",
    "        # Glob will help to read all the images from each folder\n",
    "        files = glob.glob(path)\n",
    "        \n",
    "        # Iterate to read each image\n",
    "        for fl in files:\n",
    "            \n",
    "            # Take only the base name i.e., img_name.jpg\n",
    "            flbase = os.path.basename(fl)\n",
    "            \n",
    "            # Take images only for the driver IDs which are in train (i.e., not in test)\n",
    "            if flbase in train_img_name:\n",
    "                \n",
    "                # Read images in gray scale\n",
    "                img = cv2.imread(fl, 0)\n",
    "                \n",
    "                # Resize the image\n",
    "                img_resized = cv2.resize(img,(224,224))\n",
    "                \n",
    "                # Append Caregory of the image\n",
    "                y_train.append(j)\n",
    "                # Append Resized image\n",
    "                X_train.append(img_resized)\n",
    "                # Append Driver ID\n",
    "                driver_id_train.append(train_driver_id[flbase])\n",
    "    \n",
    "    return np.array(y_train, dtype=np.uint8) , np.array(X_train, dtype=np.uint8), driver_id_train\n",
    "\n",
    "# Load all the training image data\n",
    "y_train, X_train, driver_id_train = load_train()"
   ]
  },
  {
   "cell_type": "code",
   "execution_count": 9,
   "metadata": {},
   "outputs": [
    {
     "name": "stdout",
     "output_type": "stream",
     "text": [
      "Read images\n",
      "Load folder c0\n",
      "Load folder c1\n",
      "Load folder c2\n",
      "Load folder c3\n",
      "Load folder c4\n"
     ]
    }
   ],
   "source": [
    "# Create testing data\n",
    "# Function to read the images in gray scale and resize the image\n",
    "# Map it to the category of the image and driver ID\n",
    "def load_test():\n",
    "    y_test = [] # Target\n",
    "    X_test = [] # Resized image\n",
    "    driver_id_test = [] # Driver ID\n",
    "    \n",
    "    print('Read images')\n",
    "    \n",
    "    # Range = 5 because in our path we have five folders\n",
    "    for j in range(5):     \n",
    "        \n",
    "        print('Load folder c{}'.format(j))\n",
    "        # Create path of all the folders one by one\n",
    "        path = r'C:\\Users\\SIDDY\\Desktop\\Business Analytics for sustainable world\\Final Use case\\all\\imgs\\train\\c' + str(j) +'\\*.jpg'\n",
    "        \n",
    "        # Glob will help to read all the images from each folder\n",
    "        files = glob.glob(path)\n",
    "        \n",
    "        # Iterate to read each image\n",
    "        for fl in files:\n",
    "            \n",
    "            # Take only the base name i.e., img_name.jpg\n",
    "            flbase = os.path.basename(fl)\n",
    "            \n",
    "            # Take images only for the driver IDs which are in test (i.e., not in train)\n",
    "            if flbase in test_img_name:\n",
    "                \n",
    "                # Read images in gray scale\n",
    "                img = cv2.imread(fl, 0)\n",
    "                # Resize the image\n",
    "                img_resized = cv2.resize(img,(224,224))\n",
    "                \n",
    "                # Append Caregory of the image\n",
    "                y_test.append(j)\n",
    "                # Append Resized image\n",
    "                X_test.append(img_resized)\n",
    "                # Append Driver ID\n",
    "                driver_id_test.append(test_driver_id[flbase])\n",
    "    return np.array(y_test, dtype=np.uint8) , np.array(X_test, dtype=np.uint8), driver_id_test\n",
    "\n",
    "# Load all the testing image data\n",
    "y_test, X_test, driver_id_test = load_test()"
   ]
  },
  {
   "cell_type": "code",
   "execution_count": 10,
   "metadata": {
    "collapsed": true
   },
   "outputs": [],
   "source": [
    "# Delete unwanted variables\n",
    "del train_img_name, train_driver_id, test_img_name, test_driver_id"
   ]
  },
  {
   "cell_type": "code",
   "execution_count": 11,
   "metadata": {
    "collapsed": true
   },
   "outputs": [],
   "source": [
    "# Normalized the data (divide by 255 because colour (Gray-scale) range lies between 0 to 255)\n",
    "X_train = X_train.astype('float32')\n",
    "X_train /= 255\n",
    "\n",
    "X_test = X_test.astype('float32')\n",
    "X_test /= 255"
   ]
  },
  {
   "cell_type": "code",
   "execution_count": 12,
   "metadata": {
    "collapsed": true
   },
   "outputs": [],
   "source": [
    "# Convert the 2D Dimension to 3D so that we can pass the image to CNN\n",
    "X_train = X_train.reshape(X_train.shape[0], 224, 224, 1)\n",
    "X_test = X_test.reshape(X_test.shape[0], 224, 224, 1)\n",
    "\n",
    "# Convert target to arrays of categories\n",
    "# 5 beacuse we have 5 categories\n",
    "y_train = np_utils.to_categorical(y_train, 5)\n",
    "y_test = np_utils.to_categorical(y_test, 5)"
   ]
  },
  {
   "cell_type": "code",
   "execution_count": 13,
   "metadata": {
    "collapsed": true
   },
   "outputs": [],
   "source": [
    "# Neural Network Model\n",
    "np.random.seed(11)\n",
    "from tensorflow import set_random_seed\n",
    "set_random_seed(11)\n",
    "from keras.models import Sequential\n",
    "from keras.layers.convolutional import Conv2D\n",
    "from keras.layers.convolutional import MaxPooling2D\n",
    "from keras.layers.core import Activation, Dense, Flatten, Dropout"
   ]
  },
  {
   "cell_type": "code",
   "execution_count": 14,
   "metadata": {
    "collapsed": true
   },
   "outputs": [],
   "source": [
    "model = Sequential()\n",
    "model.add(Conv2D(filters = 32,kernel_size =(3,3),strides = (2,2),input_shape=(224, 224, 1)))\n",
    "model.add(Activation('relu'))\n",
    "model.add(MaxPooling2D(pool_size=(2,2)))\n",
    "\n",
    "model.add(Conv2D(filters = 32 ,kernel_size =(3,3)))\n",
    "model.add(Activation('relu'))\n",
    "model.add(MaxPooling2D(pool_size=(2,2)))\n",
    "\n",
    "model.add(Conv2D(filters = 64, kernel_size =(3, 3)))\n",
    "model.add(Activation('relu'))\n",
    "model.add(MaxPooling2D(pool_size=(2, 2)))\n",
    "\n",
    "model.add(Flatten())\n",
    "\n",
    "model.add(Dense(224))\n",
    "model.add(Activation('relu'))\n",
    "model.add(Dropout(0.5))\n",
    "model.add(Dense(5))\n",
    "model.add(Activation('softmax'))"
   ]
  },
  {
   "cell_type": "code",
   "execution_count": 40,
   "metadata": {},
   "outputs": [
    {
     "name": "stdout",
     "output_type": "stream",
     "text": [
      "Train on 8838 samples, validate on 982 samples\n",
      "Epoch 1/20\n",
      "8838/8838 [==============================] - 133s - loss: 1.2264 - acc: 0.5114 - val_loss: 1.2957 - val_acc: 0.3534\n",
      "Epoch 2/20\n",
      "8838/8838 [==============================] - 134s - loss: 0.3261 - acc: 0.8931 - val_loss: 0.2361 - val_acc: 0.9521\n",
      "Epoch 3/20\n",
      "8838/8838 [==============================] - 135s - loss: 0.1159 - acc: 0.9668 - val_loss: 0.0845 - val_acc: 0.9817\n",
      "Epoch 4/20\n",
      "8838/8838 [==============================] - 134s - loss: 0.0654 - acc: 0.9814 - val_loss: 0.0836 - val_acc: 0.9817\n",
      "Epoch 5/20\n",
      "8838/8838 [==============================] - 135s - loss: 0.0375 - acc: 0.9893 - val_loss: 0.0494 - val_acc: 0.9898\n",
      "Epoch 6/20\n",
      "8838/8838 [==============================] - 139s - loss: 0.0342 - acc: 0.9895 - val_loss: 0.0512 - val_acc: 0.9908\n",
      "Epoch 7/20\n",
      "8838/8838 [==============================] - 145s - loss: 0.0207 - acc: 0.9940 - val_loss: 0.0314 - val_acc: 0.9939\n",
      "Epoch 8/20\n",
      "8838/8838 [==============================] - 146s - loss: 0.0233 - acc: 0.9929 - val_loss: 0.0533 - val_acc: 0.9929\n",
      "Epoch 9/20\n",
      "8838/8838 [==============================] - 138s - loss: 0.0218 - acc: 0.9931 - val_loss: 0.0355 - val_acc: 0.9929\n",
      "Epoch 10/20\n",
      "8838/8838 [==============================] - 143s - loss: 0.0223 - acc: 0.9930 - val_loss: 0.0330 - val_acc: 0.9939\n",
      "Epoch 11/20\n",
      "8838/8838 [==============================] - 140s - loss: 0.0130 - acc: 0.9965 - val_loss: 0.0209 - val_acc: 0.9939\n",
      "Epoch 12/20\n",
      "8838/8838 [==============================] - 147s - loss: 0.0090 - acc: 0.9976 - val_loss: 0.0150 - val_acc: 0.9969\n",
      "Epoch 13/20\n",
      "8838/8838 [==============================] - 138s - loss: 0.0082 - acc: 0.9971 - val_loss: 0.0188 - val_acc: 0.9959\n",
      "Epoch 14/20\n",
      "8838/8838 [==============================] - 138s - loss: 0.0046 - acc: 0.9984 - val_loss: 0.0134 - val_acc: 0.9969\n",
      "Epoch 15/20\n",
      "8838/8838 [==============================] - 136s - loss: 0.0088 - acc: 0.9976 - val_loss: 0.0440 - val_acc: 0.9898\n",
      "Epoch 16/20\n",
      "8838/8838 [==============================] - 138s - loss: 0.0236 - acc: 0.9921 - val_loss: 0.0303 - val_acc: 0.9919\n",
      "Epoch 17/20\n",
      "8838/8838 [==============================] - 136s - loss: 0.0129 - acc: 0.9956 - val_loss: 0.0402 - val_acc: 0.9908\n",
      "Epoch 18/20\n",
      "8838/8838 [==============================] - 139s - loss: 0.0076 - acc: 0.9980 - val_loss: 0.0210 - val_acc: 0.9949\n",
      "Epoch 19/20\n",
      "8838/8838 [==============================] - 135s - loss: 0.0068 - acc: 0.9977 - val_loss: 0.0274 - val_acc: 0.9908\n",
      "Epoch 20/20\n",
      "8838/8838 [==============================] - 133s - loss: 0.0033 - acc: 0.9992 - val_loss: 0.0220 - val_acc: 0.9959\n"
     ]
    },
    {
     "data": {
      "text/plain": [
       "<keras.callbacks.History at 0x288009ae6d8>"
      ]
     },
     "execution_count": 40,
     "metadata": {},
     "output_type": "execute_result"
    }
   ],
   "source": [
    "# Compile model\n",
    "model.compile(loss='categorical_crossentropy', optimizer='adam', metrics=['accuracy'])\n",
    "# Fit the model\n",
    "model.fit(X_train, y_train,validation_split=0.1, epochs=20, batch_size=200)"
   ]
  },
  {
   "cell_type": "code",
   "execution_count": 23,
   "metadata": {},
   "outputs": [
    {
     "name": "stdout",
     "output_type": "stream",
     "text": [
      "1925/1925 [==============================] - 19s    \n",
      "1925/1925 [==============================] - 20s    \n",
      "Test loss: 1.64154257624\n",
      "Test accuracy: 0.752727272727\n"
     ]
    }
   ],
   "source": [
    "# Prob prediction for each class\n",
    "pred = model.predict(X_test)\n",
    "\n",
    "# Class prediction\n",
    "pred_class = model.predict_classes(X_test)\n",
    "\n",
    "# Chceking loss and accuracy score\n",
    "score = model.evaluate(X_test,y_test)\n",
    "print('Test loss:', score[0])\n",
    "print('Test accuracy:', score[1])"
   ]
  },
  {
   "cell_type": "code",
   "execution_count": 21,
   "metadata": {},
   "outputs": [
    {
     "name": "stdout",
     "output_type": "stream",
     "text": [
      "col_0    0    1    2    3    4\n",
      "row_0                         \n",
      "0      188   12   47   27  124\n",
      "1       14  229   45   33   76\n",
      "2       39   42  158   25  124\n",
      "3        2    0    2  277   88\n",
      "4        0    0    0    0  373\n"
     ]
    }
   ],
   "source": [
    "# Confusion Matrix  \n",
    "target = y_test.argmax(1)\n",
    "cfm = pd.crosstab(target, pred_class)\n",
    "print(cfm)"
   ]
  },
  {
   "cell_type": "code",
   "execution_count": 22,
   "metadata": {},
   "outputs": [
    {
     "name": "stdout",
     "output_type": "stream",
     "text": [
      "0.636363636364\n",
      "             precision    recall  f1-score   support\n",
      "\n",
      "          0       0.77      0.47      0.59       398\n",
      "          1       0.81      0.58      0.67       397\n",
      "          2       0.63      0.41      0.49       388\n",
      "          3       0.77      0.75      0.76       369\n",
      "          4       0.48      1.00      0.64       373\n",
      "\n",
      "avg / total       0.69      0.64      0.63      1925\n",
      "\n"
     ]
    }
   ],
   "source": [
    "# Classification report\n",
    "print(classification_report(target,pred_class))"
   ]
  },
  {
   "cell_type": "code",
   "execution_count": 44,
   "metadata": {},
   "outputs": [
    {
     "name": "stdout",
     "output_type": "stream",
     "text": [
      "Saved model to disk\n"
     ]
    }
   ],
   "source": [
    "################### Save the Model ###################\n",
    "\n",
    "# serialize model to JSON\n",
    "model_json = model.to_json()\n",
    "with open(\"model2.json\", \"w\") as json_file:\n",
    "    json_file.write(model_json)\n",
    "    \n",
    "# serialize weights to HDF5\n",
    "model.save_weights(\"model2.h5\")\n",
    "print(\"Saved model to disk\")"
   ]
  }
 ],
 "metadata": {
  "kernelspec": {
   "display_name": "Python 3",
   "language": "python",
   "name": "python3"
  },
  "language_info": {
   "codemirror_mode": {
    "name": "ipython",
    "version": 3
   },
   "file_extension": ".py",
   "mimetype": "text/x-python",
   "name": "python",
   "nbconvert_exporter": "python",
   "pygments_lexer": "ipython3",
   "version": "3.5.4"
  }
 },
 "nbformat": 4,
 "nbformat_minor": 2
}
